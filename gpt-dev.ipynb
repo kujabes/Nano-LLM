{
 "cells": [
  {
   "cell_type": "code",
   "execution_count": 3,
   "id": "0c60b4d7",
   "metadata": {},
   "outputs": [
    {
     "name": "stdout",
     "output_type": "stream",
     "text": [
      "--2025-06-04 13:46:17--  https://raw.githubusercontent.com/karpathy/char-rnn/master/data/tinyshakespeare/input.txt\n",
      "Resolving raw.githubusercontent.com (raw.githubusercontent.com)... 185.199.109.133, 185.199.111.133, 185.199.108.133, ...\n",
      "Connecting to raw.githubusercontent.com (raw.githubusercontent.com)|185.199.109.133|:443... connected.\n",
      "HTTP request sent, awaiting response... 200 OK\n",
      "Length: 1115394 (1.1M) [text/plain]\n",
      "Saving to: ‘input.txt’\n",
      "\n",
      "input.txt           100%[===================>]   1.06M  6.07MB/s    in 0.2s    \n",
      "\n",
      "2025-06-04 13:46:18 (6.07 MB/s) - ‘input.txt’ saved [1115394/1115394]\n",
      "\n"
     ]
    }
   ],
   "source": [
    "!wget https://raw.githubusercontent.com/karpathy/char-rnn/master/data/tinyshakespeare/input.txt"
   ]
  },
  {
   "cell_type": "code",
   "execution_count": 4,
   "id": "dfae5f8e",
   "metadata": {},
   "outputs": [],
   "source": [
    "with open('input.txt', 'r', encoding='UTF-8') as f:\n",
    "    text = f.read()"
   ]
  },
  {
   "cell_type": "code",
   "execution_count": 7,
   "id": "01b119c2",
   "metadata": {},
   "outputs": [
    {
     "name": "stdout",
     "output_type": "stream",
     "text": [
      "Length of dataset in characters: 1115394\n"
     ]
    }
   ],
   "source": [
    "print('Length of dataset in characters:', len(text))"
   ]
  },
  {
   "cell_type": "code",
   "execution_count": 13,
   "id": "36a79704",
   "metadata": {},
   "outputs": [
    {
     "name": "stdout",
     "output_type": "stream",
     "text": [
      "First Citizen:\n",
      "Before we proceed any further, hear me speak.\n",
      "\n",
      "All:\n",
      "Speak, speak.\n",
      "\n",
      "First Citizen:\n",
      "You\n"
     ]
    }
   ],
   "source": [
    "# First 1000 characters\n",
    "print(text[:100])"
   ]
  },
  {
   "cell_type": "code",
   "execution_count": 10,
   "id": "deab9f15",
   "metadata": {},
   "outputs": [
    {
     "name": "stdout",
     "output_type": "stream",
     "text": [
      "\n",
      " !$&',-.3:;?ABCDEFGHIJKLMNOPQRSTUVWXYZabcdefghijklmnopqrstuvwxyz\n",
      "65\n"
     ]
    }
   ],
   "source": [
    "# All unique characters which appear in the text\n",
    "chars = sorted(list(set(text)))\n",
    "vocab_size = len(chars)\n",
    "print(''.join(chars))\n",
    "print(vocab_size)"
   ]
  },
  {
   "cell_type": "code",
   "execution_count": null,
   "id": "1668debd",
   "metadata": {},
   "outputs": [],
   "source": [
    "# We now with to tokenize characters to a sequence of integers\n",
    "# Possible strategies include direct mappings for each character to some integer\n",
    "# which leads to the smallest vocabulary, but largest expression\n",
    "# vs. a sub-word level tokenizer which a much larger vocabulary but with shorter expressions\n",
    "# Other schemas include tiktoken (Used by gpt) or SentencePiece (google)"
   ]
  },
  {
   "cell_type": "code",
   "execution_count": 11,
   "id": "fe6267c4",
   "metadata": {},
   "outputs": [
    {
     "name": "stdout",
     "output_type": "stream",
     "text": [
      "[20, 43, 50, 50, 53, 1, 35, 53, 56, 50, 42]\n",
      "Hello World\n"
     ]
    }
   ],
   "source": [
    "# Character level tokenizer, direct mapping from character to integer\n",
    "stoi = {ch:i for i, ch in enumerate(chars)}\n",
    "itos = {i:ch for i, ch in enumerate(chars)}\n",
    "encode = lambda s: [stoi[ch] for ch in s] # takes a string and encodes into a list of integers\n",
    "decode = lambda l: ''.join([itos[i] for i in l])\n",
    "\n",
    "print(encode('Hello World'))\n",
    "print(decode(encode('Hello World')))"
   ]
  },
  {
   "cell_type": "code",
   "execution_count": 15,
   "id": "403a177b",
   "metadata": {},
   "outputs": [
    {
     "name": "stdout",
     "output_type": "stream",
     "text": [
      "torch.Size([1115394]) torch.int64\n",
      "tensor([18, 47, 56, 57, 58,  1, 15, 47, 58, 47, 64, 43, 52, 10,  0, 14, 43, 44,\n",
      "        53, 56, 43,  1, 61, 43,  1, 54, 56, 53, 41, 43, 43, 42,  1, 39, 52, 63,\n",
      "         1, 44, 59, 56, 58, 46, 43, 56,  6,  1, 46, 43, 39, 56,  1, 51, 43,  1,\n",
      "        57, 54, 43, 39, 49,  8,  0,  0, 13, 50, 50, 10,  0, 31, 54, 43, 39, 49,\n",
      "         6,  1, 57, 54, 43, 39, 49,  8,  0,  0, 18, 47, 56, 57, 58,  1, 15, 47,\n",
      "        58, 47, 64, 43, 52, 10,  0, 37, 53, 59])\n"
     ]
    }
   ],
   "source": [
    "# lets now encode the entire dataset and store it in a tensor\n",
    "import torch\n",
    "data = torch.tensor(encode(text), dtype=torch.long)\n",
    "print(data.shape, data.dtype)\n",
    "print(data[:100])"
   ]
  },
  {
   "cell_type": "code",
   "execution_count": 17,
   "id": "d9f4d7c5",
   "metadata": {},
   "outputs": [],
   "source": [
    "# Lets now split up the data into training and validation sets\n",
    "n = int(0.9*len(data))\n",
    "train_data = data[:n]\n",
    "val_data = data[n:]"
   ]
  },
  {
   "cell_type": "code",
   "execution_count": null,
   "id": "6aadf9ed",
   "metadata": {},
   "outputs": [],
   "source": [
    "# we never feed the entire text to the transformer at any given time. This\n",
    "# would be computationally expensive and prohibitive. Instead we break the text\n",
    "# into smaller chunks with some maximum length (Block size / Context length)"
   ]
  },
  {
   "cell_type": "code",
   "execution_count": 18,
   "id": "d79b7f4d",
   "metadata": {},
   "outputs": [
    {
     "data": {
      "text/plain": [
       "tensor([18, 47, 56, 57, 58,  1, 15, 47, 58])"
      ]
     },
     "execution_count": 18,
     "metadata": {},
     "output_type": "execute_result"
    }
   ],
   "source": [
    "block_size = 8\n",
    "train_data[:block_size+1]"
   ]
  },
  {
   "cell_type": "code",
   "execution_count": null,
   "id": "c69b0949",
   "metadata": {},
   "outputs": [
    {
     "name": "stdout",
     "output_type": "stream",
     "text": [
      "When input is tensor([18]) the target: 47\n",
      "When input is tensor([18, 47]) the target: 56\n",
      "When input is tensor([18, 47, 56]) the target: 57\n",
      "When input is tensor([18, 47, 56, 57]) the target: 58\n",
      "When input is tensor([18, 47, 56, 57, 58]) the target: 1\n",
      "When input is tensor([18, 47, 56, 57, 58,  1]) the target: 15\n",
      "When input is tensor([18, 47, 56, 57, 58,  1, 15]) the target: 47\n",
      "When input is tensor([18, 47, 56, 57, 58,  1, 15, 47]) the target: 58\n"
     ]
    }
   ],
   "source": [
    "# We break up the sample in this way so the model\n",
    "# can get used to seeing contexts of varying length\n",
    "x = train_data[:block_size]\n",
    "y = train_data[1:block_size+1]\n",
    "for t in range(block_size):\n",
    "    context = x[:t+1]\n",
    "    target = y[t]\n",
    "    print(f'When input is {context} the target: {target}')"
   ]
  },
  {
   "cell_type": "code",
   "execution_count": 25,
   "id": "eca03dea",
   "metadata": {},
   "outputs": [
    {
     "name": "stdout",
     "output_type": "stream",
     "text": [
      "inputs:\n",
      "torch.Size([4, 8])\n",
      "tensor([[24, 43, 58,  5, 57,  1, 46, 43],\n",
      "        [44, 53, 56,  1, 58, 46, 39, 58],\n",
      "        [52, 58,  1, 58, 46, 39, 58,  1],\n",
      "        [25, 17, 27, 10,  0, 21,  1, 54]])\n",
      "targets:\n",
      "torch.Size([4, 8])\n",
      "tensor([[43, 58,  5, 57,  1, 46, 43, 39],\n",
      "        [53, 56,  1, 58, 46, 39, 58,  1],\n",
      "        [58,  1, 58, 46, 39, 58,  1, 46],\n",
      "        [17, 27, 10,  0, 21,  1, 54, 39]])\n",
      "----\n",
      "When input is tensor([24]), the target: 43\n",
      "When input is tensor([24, 43]), the target: 58\n",
      "When input is tensor([24, 43, 58]), the target: 5\n",
      "When input is tensor([24, 43, 58,  5]), the target: 57\n",
      "When input is tensor([24, 43, 58,  5, 57]), the target: 1\n",
      "When input is tensor([24, 43, 58,  5, 57,  1]), the target: 46\n",
      "When input is tensor([24, 43, 58,  5, 57,  1, 46]), the target: 43\n",
      "When input is tensor([24, 43, 58,  5, 57,  1, 46, 43]), the target: 39\n",
      "When input is tensor([44]), the target: 53\n",
      "When input is tensor([44, 53]), the target: 56\n",
      "When input is tensor([44, 53, 56]), the target: 1\n",
      "When input is tensor([44, 53, 56,  1]), the target: 58\n",
      "When input is tensor([44, 53, 56,  1, 58]), the target: 46\n",
      "When input is tensor([44, 53, 56,  1, 58, 46]), the target: 39\n",
      "When input is tensor([44, 53, 56,  1, 58, 46, 39]), the target: 58\n",
      "When input is tensor([44, 53, 56,  1, 58, 46, 39, 58]), the target: 1\n",
      "When input is tensor([52]), the target: 58\n",
      "When input is tensor([52, 58]), the target: 1\n",
      "When input is tensor([52, 58,  1]), the target: 58\n",
      "When input is tensor([52, 58,  1, 58]), the target: 46\n",
      "When input is tensor([52, 58,  1, 58, 46]), the target: 39\n",
      "When input is tensor([52, 58,  1, 58, 46, 39]), the target: 58\n",
      "When input is tensor([52, 58,  1, 58, 46, 39, 58]), the target: 1\n",
      "When input is tensor([52, 58,  1, 58, 46, 39, 58,  1]), the target: 46\n",
      "When input is tensor([25]), the target: 17\n",
      "When input is tensor([25, 17]), the target: 27\n",
      "When input is tensor([25, 17, 27]), the target: 10\n",
      "When input is tensor([25, 17, 27, 10]), the target: 0\n",
      "When input is tensor([25, 17, 27, 10,  0]), the target: 21\n",
      "When input is tensor([25, 17, 27, 10,  0, 21]), the target: 1\n",
      "When input is tensor([25, 17, 27, 10,  0, 21,  1]), the target: 54\n",
      "When input is tensor([25, 17, 27, 10,  0, 21,  1, 54]), the target: 39\n"
     ]
    }
   ],
   "source": [
    "torch.manual_seed(1337)\n",
    "batch_size = 4 # independent sequences that will be processed in parallel\n",
    "block_size = 8 # maximum context length\n",
    "\n",
    "def get_batch(split):\n",
    "    # generate a small batch of data of inputs x and targets y\n",
    "    data = train_data if split == 'train' else val_data\n",
    "    # generates random integers up to len(data) - block size to ensure there is\n",
    "    # enough space to get full context, of dimension (batch_size, )\n",
    "    # i.e. generates 4 random indexes\n",
    "    ix = torch.randint(len(data) - block_size, (batch_size, ))\n",
    "    # grab full context list for each random index\n",
    "    # and combines each 1D tensor into a 2D tensor\n",
    "    # with torch.stack() (which also does not use new memory)\n",
    "    x = torch.stack([data[i:i+block_size] for i in ix])\n",
    "    # grab all targets for each context list\n",
    "    y = torch.stack([data[i+1:i+block_size+1] for i in ix])\n",
    "    return x, y\n",
    "\n",
    "xb, yb = get_batch('train')\n",
    "print('inputs:')\n",
    "print(xb.shape)\n",
    "print(xb)\n",
    "print('targets:')\n",
    "print(yb.shape)\n",
    "print(yb)\n",
    "\n",
    "print('----')\n",
    "\n",
    "for b in range(batch_size): # batch dimension\n",
    "    for t in range(block_size): # time dimension\n",
    "        context = xb[b,:t+1]\n",
    "        target = yb[b, t]\n",
    "        print(f'When input is {context}, the target: {target}')\n"
   ]
  },
  {
   "cell_type": "code",
   "execution_count": null,
   "id": "3b1392d2",
   "metadata": {},
   "outputs": [],
   "source": [
    "import torch\n",
    "import torch.nn as nn \n",
    "from torch.nn import functional as F\n",
    "torch.manual_seed(1337)\n",
    "\n",
    "class BigramLanguageModel(nn.Module):\n",
    "    def __init__(self, vocab_size):\n",
    "        super().__init__()\n",
    "        # each token reads off the logits for the next token from a lookup table\n",
    "        self.token_embedding_table = nn.Embedding(vocab_size, vocab_size)\n",
    "\n",
    "    def forward(self, idx, targets):\n",
    "        logits = self.token_embedding_table(idx)\n",
    "        return logits\n"
   ]
  }
 ],
 "metadata": {
  "kernelspec": {
   "display_name": "torch_env",
   "language": "python",
   "name": "python3"
  },
  "language_info": {
   "codemirror_mode": {
    "name": "ipython",
    "version": 3
   },
   "file_extension": ".py",
   "mimetype": "text/x-python",
   "name": "python",
   "nbconvert_exporter": "python",
   "pygments_lexer": "ipython3",
   "version": "3.12.9"
  }
 },
 "nbformat": 4,
 "nbformat_minor": 5
}
